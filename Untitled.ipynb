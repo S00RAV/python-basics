{
  "nbformat": 4,
  "nbformat_minor": 0,
  "metadata": {
    "colab": {
      "name": "Untitled",
      "provenance": []
    },
    "kernelspec": {
      "name": "python3",
      "display_name": "Python 3"
    }
  },
  "cells": [
    {
      "cell_type": "code",
      "metadata": {
        "id": "UUnaRkkVwCyH",
        "colab": {
          "base_uri": "https://localhost:8080/"
        },
        "outputId": "ce6b2ded-fc06-469a-ebd8-698dcffe685f"
      },
      "source": [
        "print('hi')"
      ],
      "execution_count": null,
      "outputs": [
        {
          "output_type": "stream",
          "text": [
            "hi\n"
          ],
          "name": "stdout"
        }
      ]
    },
    {
      "cell_type": "code",
      "metadata": {
        "id": "bKGEvb3dwzfC",
        "colab": {
          "base_uri": "https://localhost:8080/"
        },
        "outputId": "fa62ace4-f42e-41a8-f411-082220b84d9d"
      },
      "source": [
        "print(\"hi\")"
      ],
      "execution_count": null,
      "outputs": [
        {
          "output_type": "stream",
          "text": [
            "hi\n"
          ],
          "name": "stdout"
        }
      ]
    },
    {
      "cell_type": "code",
      "metadata": {
        "id": "p-9QDe6rxajc",
        "colab": {
          "base_uri": "https://localhost:8080/"
        },
        "outputId": "9537ef65-565d-49bf-a731-81dae0ac63c7"
      },
      "source": [
        "x= \"my name\"\n",
        "y= \" ram\"\n",
        "z= x+y\n",
        "print(z)"
      ],
      "execution_count": null,
      "outputs": [
        {
          "output_type": "stream",
          "text": [
            "my name ram\n"
          ],
          "name": "stdout"
        }
      ]
    },
    {
      "cell_type": "code",
      "metadata": {
        "id": "2-_u_ZAXyQZa"
      },
      "source": [
        "x= 7\n",
        "y= 4.5\n",
        "z= 6j"
      ],
      "execution_count": null,
      "outputs": []
    },
    {
      "cell_type": "code",
      "metadata": {
        "colab": {
          "base_uri": "https://localhost:8080/"
        },
        "id": "Q_EVFU0ek1dt",
        "outputId": "478a0ec4-eeb0-4010-fdef-bc93fcdff41a"
      },
      "source": [
        "type(x)"
      ],
      "execution_count": null,
      "outputs": [
        {
          "output_type": "execute_result",
          "data": {
            "text/plain": [
              "int"
            ]
          },
          "metadata": {
            "tags": []
          },
          "execution_count": 7
        }
      ]
    },
    {
      "cell_type": "code",
      "metadata": {
        "colab": {
          "base_uri": "https://localhost:8080/"
        },
        "id": "zGLeqEI6kSaA",
        "outputId": "3bd99cfc-342a-4806-dec5-806908e98e90"
      },
      "source": [
        "(type (x))"
      ],
      "execution_count": null,
      "outputs": [
        {
          "output_type": "execute_result",
          "data": {
            "text/plain": [
              "int"
            ]
          },
          "metadata": {
            "tags": []
          },
          "execution_count": 8
        }
      ]
    },
    {
      "cell_type": "code",
      "metadata": {
        "id": "Rnr4-15vz6PQ",
        "colab": {
          "base_uri": "https://localhost:8080/"
        },
        "outputId": "72676f37-bddf-4aae-9c50-489ecc66fd06"
      },
      "source": [
        "print(type(x))\n",
        "print(type(y))\n",
        "print(type(z))"
      ],
      "execution_count": null,
      "outputs": [
        {
          "output_type": "stream",
          "text": [
            "<class 'int'>\n",
            "<class 'float'>\n",
            "<class 'complex'>\n"
          ],
          "name": "stdout"
        }
      ]
    },
    {
      "cell_type": "code",
      "metadata": {
        "id": "Dy2peT0d0W-L",
        "colab": {
          "base_uri": "https://localhost:8080/"
        },
        "outputId": "8e89a54d-1716-40dd-e65e-b31fdcd1b888"
      },
      "source": [
        "a = int(y)\n",
        "print (a)\n",
        "print (type (a))"
      ],
      "execution_count": null,
      "outputs": [
        {
          "output_type": "stream",
          "text": [
            "4\n",
            "<class 'int'>\n"
          ],
          "name": "stdout"
        }
      ]
    },
    {
      "cell_type": "code",
      "metadata": {
        "colab": {
          "base_uri": "https://localhost:8080/"
        },
        "id": "sORjif9RUhDh",
        "outputId": "42312767-e50f-41d3-d98f-df439cbf13b2"
      },
      "source": [
        "# Variable Assignment\r\n",
        "a = 4\r\n",
        "# Printing Variable\r\n",
        "print(a)"
      ],
      "execution_count": null,
      "outputs": [
        {
          "output_type": "stream",
          "text": [
            "4\n"
          ],
          "name": "stdout"
        }
      ]
    },
    {
      "cell_type": "code",
      "metadata": {
        "colab": {
          "base_uri": "https://localhost:8080/"
        },
        "id": "oXAdSvCWUmTS",
        "outputId": "da01c049-22fb-46f5-e4eb-136c4857db82"
      },
      "source": [
        "print(\"Addition: a+5 =\", a+5)\r\n",
        "print(\"Subraction: a-5 =\", a-5)\r\n",
        "print(\"Division: A/5 =\", a/5)\r\n",
        "print(\"Floor Division: A//5 =\", a//5)\r\n",
        "print(\"Multiplication: A*5 =\", a*5)\r\n",
        "print(\"Exponentiation: a**5 =\", a**5)\r\n",
        "print(\"Modulus: a%2 =\", a%2)"
      ],
      "execution_count": null,
      "outputs": [
        {
          "output_type": "stream",
          "text": [
            "Addition: a+5 = 9\n",
            "Subraction: a-5 = -1\n",
            "Division: A/5 = 0.8\n",
            "Floor Division: A//5 = 0\n",
            "Multiplication: A*5 = 20\n",
            "Exponentiation: a**5 = 1024\n",
            "Modulus: a%2 = 0\n"
          ],
          "name": "stdout"
        }
      ]
    },
    {
      "cell_type": "code",
      "metadata": {
        "id": "SdAKxPjjUwDX",
        "colab": {
          "base_uri": "https://localhost:8080/",
          "height": 35
        },
        "outputId": "e0e9275e-20b4-4b4c-8f6f-e02439f70b03"
      },
      "source": [
        "a = 'kjl'\n",
        "a"
      ],
      "execution_count": null,
      "outputs": [
        {
          "output_type": "execute_result",
          "data": {
            "application/vnd.google.colaboratory.intrinsic+json": {
              "type": "string"
            },
            "text/plain": [
              "'kjl'"
            ]
          },
          "metadata": {
            "tags": []
          },
          "execution_count": 11
        }
      ]
    },
    {
      "cell_type": "code",
      "metadata": {
        "id": "LeNUrLD3Vmdw",
        "colab": {
          "base_uri": "https://localhost:8080/"
        },
        "outputId": "3f3c7f6e-8b6c-4f4f-a492-1b4aac8af237"
      },
      "source": [
        "len(a)"
      ],
      "execution_count": null,
      "outputs": [
        {
          "output_type": "execute_result",
          "data": {
            "text/plain": [
              "3"
            ]
          },
          "metadata": {
            "tags": []
          },
          "execution_count": 12
        }
      ]
    },
    {
      "cell_type": "code",
      "metadata": {
        "id": "We7P9Cm-V8VU",
        "colab": {
          "base_uri": "https://localhost:8080/"
        },
        "outputId": "b0396f93-4729-4548-d868-8adc5295327f"
      },
      "source": [
        "type(a)"
      ],
      "execution_count": null,
      "outputs": [
        {
          "output_type": "execute_result",
          "data": {
            "text/plain": [
              "str"
            ]
          },
          "metadata": {
            "tags": []
          },
          "execution_count": 13
        }
      ]
    },
    {
      "cell_type": "code",
      "metadata": {
        "colab": {
          "base_uri": "https://localhost:8080/"
        },
        "id": "RtqT--WloKOB",
        "outputId": "289f9bce-9fdd-4c58-fb14-8234ecb66dd4"
      },
      "source": [
        "b=123\r\n",
        "b"
      ],
      "execution_count": null,
      "outputs": [
        {
          "output_type": "execute_result",
          "data": {
            "text/plain": [
              "123"
            ]
          },
          "metadata": {
            "tags": []
          },
          "execution_count": 14
        }
      ]
    },
    {
      "cell_type": "code",
      "metadata": {
        "colab": {
          "base_uri": "https://localhost:8080/"
        },
        "id": "-gZ0uXrOoVJJ",
        "outputId": "c53e2176-236b-45a4-9945-e1a9841b2aab"
      },
      "source": [
        "type (b)"
      ],
      "execution_count": null,
      "outputs": [
        {
          "output_type": "execute_result",
          "data": {
            "text/plain": [
              "int"
            ]
          },
          "metadata": {
            "tags": []
          },
          "execution_count": 15
        }
      ]
    },
    {
      "cell_type": "code",
      "metadata": {
        "id": "Ryv1bCAWWHTC",
        "colab": {
          "base_uri": "https://localhost:8080/",
          "height": 35
        },
        "outputId": "ff0b0b7b-d224-4145-f615-b88ed28a1782"
      },
      "source": [
        "a.upper()"
      ],
      "execution_count": null,
      "outputs": [
        {
          "output_type": "execute_result",
          "data": {
            "application/vnd.google.colaboratory.intrinsic+json": {
              "type": "string"
            },
            "text/plain": [
              "'KJL'"
            ]
          },
          "metadata": {
            "tags": []
          },
          "execution_count": 18
        }
      ]
    },
    {
      "cell_type": "code",
      "metadata": {
        "id": "gUryyAT-WeIO",
        "colab": {
          "base_uri": "https://localhost:8080/",
          "height": 35
        },
        "outputId": "2fd1e048-eb6e-4337-99be-7ac34df53347"
      },
      "source": [
        "a.lower()\n"
      ],
      "execution_count": null,
      "outputs": [
        {
          "output_type": "execute_result",
          "data": {
            "application/vnd.google.colaboratory.intrinsic+json": {
              "type": "string"
            },
            "text/plain": [
              "'kjl'"
            ]
          },
          "metadata": {
            "tags": []
          },
          "execution_count": 19
        }
      ]
    },
    {
      "cell_type": "code",
      "metadata": {
        "id": "9o4ttRL6W9yF",
        "colab": {
          "base_uri": "https://localhost:8080/",
          "height": 35
        },
        "outputId": "ef77d6ec-a6ac-40e9-b9f0-a94e4c0e54a0"
      },
      "source": [
        "# indexing\n",
        "a[2]"
      ],
      "execution_count": null,
      "outputs": [
        {
          "output_type": "execute_result",
          "data": {
            "application/vnd.google.colaboratory.intrinsic+json": {
              "type": "string"
            },
            "text/plain": [
              "'l'"
            ]
          },
          "metadata": {
            "tags": []
          },
          "execution_count": 20
        }
      ]
    },
    {
      "cell_type": "code",
      "metadata": {
        "id": "6R0WiGBWXdMy",
        "colab": {
          "base_uri": "https://localhost:8080/",
          "height": 35
        },
        "outputId": "a8e53fe3-e166-47c3-8cd7-748f5639fab0"
      },
      "source": [
        "a[-2]"
      ],
      "execution_count": null,
      "outputs": [
        {
          "output_type": "execute_result",
          "data": {
            "application/vnd.google.colaboratory.intrinsic+json": {
              "type": "string"
            },
            "text/plain": [
              "'j'"
            ]
          },
          "metadata": {
            "tags": []
          },
          "execution_count": 21
        }
      ]
    },
    {
      "cell_type": "code",
      "metadata": {
        "id": "ikUXqT_ZXudu",
        "colab": {
          "base_uri": "https://localhost:8080/",
          "height": 35
        },
        "outputId": "22d33335-d651-4c9f-ec7c-9d5ac3db9beb"
      },
      "source": [
        "a[-3]"
      ],
      "execution_count": null,
      "outputs": [
        {
          "output_type": "execute_result",
          "data": {
            "application/vnd.google.colaboratory.intrinsic+json": {
              "type": "string"
            },
            "text/plain": [
              "'k'"
            ]
          },
          "metadata": {
            "tags": []
          },
          "execution_count": 22
        }
      ]
    },
    {
      "cell_type": "code",
      "metadata": {
        "id": "exOq-LQ7X0UF",
        "colab": {
          "base_uri": "https://localhost:8080/",
          "height": 35
        },
        "outputId": "7bf156cb-664b-4c88-f1f2-de0f95be8811"
      },
      "source": [
        "a[0]"
      ],
      "execution_count": null,
      "outputs": [
        {
          "output_type": "execute_result",
          "data": {
            "application/vnd.google.colaboratory.intrinsic+json": {
              "type": "string"
            },
            "text/plain": [
              "'k'"
            ]
          },
          "metadata": {
            "tags": []
          },
          "execution_count": 23
        }
      ]
    },
    {
      "cell_type": "code",
      "metadata": {
        "id": "pXpYZBgbZS-M",
        "colab": {
          "base_uri": "https://localhost:8080/",
          "height": 35
        },
        "outputId": "a5773661-c387-4faa-8697-a6c07d5386e7"
      },
      "source": [
        "a[:-2]"
      ],
      "execution_count": null,
      "outputs": [
        {
          "output_type": "execute_result",
          "data": {
            "application/vnd.google.colaboratory.intrinsic+json": {
              "type": "string"
            },
            "text/plain": [
              "'k'"
            ]
          },
          "metadata": {
            "tags": []
          },
          "execution_count": 24
        }
      ]
    },
    {
      "cell_type": "code",
      "metadata": {
        "colab": {
          "base_uri": "https://localhost:8080/",
          "height": 35
        },
        "id": "5wACj9MlllKB",
        "outputId": "de46e976-c6d9-49dc-bb08-a54022434103"
      },
      "source": [
        "a[-2:]"
      ],
      "execution_count": null,
      "outputs": [
        {
          "output_type": "execute_result",
          "data": {
            "application/vnd.google.colaboratory.intrinsic+json": {
              "type": "string"
            },
            "text/plain": [
              "'jl'"
            ]
          },
          "metadata": {
            "tags": []
          },
          "execution_count": 25
        }
      ]
    },
    {
      "cell_type": "code",
      "metadata": {
        "id": "xAZ8UShqZM6o",
        "colab": {
          "base_uri": "https://localhost:8080/",
          "height": 35
        },
        "outputId": "e58d4cd5-1775-4f8a-a952-9b2ca46f9f23"
      },
      "source": [
        "a[:2]"
      ],
      "execution_count": null,
      "outputs": [
        {
          "output_type": "execute_result",
          "data": {
            "application/vnd.google.colaboratory.intrinsic+json": {
              "type": "string"
            },
            "text/plain": [
              "'kj'"
            ]
          },
          "metadata": {
            "tags": []
          },
          "execution_count": 26
        }
      ]
    },
    {
      "cell_type": "code",
      "metadata": {
        "colab": {
          "base_uri": "https://localhost:8080/",
          "height": 35
        },
        "id": "usrbWxt7mpI0",
        "outputId": "d29a7d4e-40cf-404f-b560-39a0ca631f41"
      },
      "source": [
        "a[2:]"
      ],
      "execution_count": null,
      "outputs": [
        {
          "output_type": "execute_result",
          "data": {
            "application/vnd.google.colaboratory.intrinsic+json": {
              "type": "string"
            },
            "text/plain": [
              "'l'"
            ]
          },
          "metadata": {
            "tags": []
          },
          "execution_count": 27
        }
      ]
    },
    {
      "cell_type": "code",
      "metadata": {
        "colab": {
          "base_uri": "https://localhost:8080/",
          "height": 35
        },
        "id": "_eTkGnL_m2EU",
        "outputId": "58c6c356-acfb-475e-e195-2c92189287aa"
      },
      "source": [
        "a[4:]"
      ],
      "execution_count": null,
      "outputs": [
        {
          "output_type": "execute_result",
          "data": {
            "application/vnd.google.colaboratory.intrinsic+json": {
              "type": "string"
            },
            "text/plain": [
              "''"
            ]
          },
          "metadata": {
            "tags": []
          },
          "execution_count": 28
        }
      ]
    },
    {
      "cell_type": "code",
      "metadata": {
        "colab": {
          "base_uri": "https://localhost:8080/",
          "height": 35
        },
        "id": "DO2LwvtHm7Rn",
        "outputId": "900c9300-68c2-4501-a108-da2af493a9ce"
      },
      "source": [
        "a[:4]"
      ],
      "execution_count": null,
      "outputs": [
        {
          "output_type": "execute_result",
          "data": {
            "application/vnd.google.colaboratory.intrinsic+json": {
              "type": "string"
            },
            "text/plain": [
              "'kjl'"
            ]
          },
          "metadata": {
            "tags": []
          },
          "execution_count": 29
        }
      ]
    },
    {
      "cell_type": "code",
      "metadata": {
        "id": "XoH4Zr2UZUxv",
        "colab": {
          "base_uri": "https://localhost:8080/",
          "height": 35
        },
        "outputId": "c6c17ed3-58d9-40a9-bfae-47b1e03787f0"
      },
      "source": [
        "a[0:]"
      ],
      "execution_count": null,
      "outputs": [
        {
          "output_type": "execute_result",
          "data": {
            "application/vnd.google.colaboratory.intrinsic+json": {
              "type": "string"
            },
            "text/plain": [
              "'kjl'"
            ]
          },
          "metadata": {
            "tags": []
          },
          "execution_count": 30
        }
      ]
    },
    {
      "cell_type": "code",
      "metadata": {
        "id": "vjKhxhf-an3Y",
        "colab": {
          "base_uri": "https://localhost:8080/",
          "height": 35
        },
        "outputId": "1c494ced-912d-4d7b-c44e-34f067a02433"
      },
      "source": [
        "c = \"abcdefghijk\"\n",
        "c[:8:2]"
      ],
      "execution_count": null,
      "outputs": [
        {
          "output_type": "execute_result",
          "data": {
            "application/vnd.google.colaboratory.intrinsic+json": {
              "type": "string"
            },
            "text/plain": [
              "'aceg'"
            ]
          },
          "metadata": {
            "tags": []
          },
          "execution_count": 31
        }
      ]
    },
    {
      "cell_type": "code",
      "metadata": {
        "id": "RusR4nlcbJH7",
        "colab": {
          "base_uri": "https://localhost:8080/",
          "height": 35
        },
        "outputId": "94994eff-eec3-4fb8-c7b8-409cb47594c6"
      },
      "source": [
        "c = \"abcdefghijk\"\n",
        "c[:8:]"
      ],
      "execution_count": null,
      "outputs": [
        {
          "output_type": "execute_result",
          "data": {
            "application/vnd.google.colaboratory.intrinsic+json": {
              "type": "string"
            },
            "text/plain": [
              "'abcdefgh'"
            ]
          },
          "metadata": {
            "tags": []
          },
          "execution_count": 32
        }
      ]
    },
    {
      "cell_type": "code",
      "metadata": {
        "colab": {
          "base_uri": "https://localhost:8080/",
          "height": 35
        },
        "id": "ybyStYtYp9iq",
        "outputId": "7416e43a-bffe-4c37-e45c-64e07b6a136c"
      },
      "source": [
        "c = \"abcdefghijk\"\r\n",
        "c[:8]"
      ],
      "execution_count": null,
      "outputs": [
        {
          "output_type": "execute_result",
          "data": {
            "application/vnd.google.colaboratory.intrinsic+json": {
              "type": "string"
            },
            "text/plain": [
              "'abcdefgh'"
            ]
          },
          "metadata": {
            "tags": []
          },
          "execution_count": 33
        }
      ]
    },
    {
      "cell_type": "code",
      "metadata": {
        "id": "ZkkPl-pBbQb4",
        "colab": {
          "base_uri": "https://localhost:8080/",
          "height": 35
        },
        "outputId": "c542b9ad-2883-4a32-8abb-b162b177ddf1"
      },
      "source": [
        "c = \"abcdefghijk\"\n",
        "c[::3]"
      ],
      "execution_count": null,
      "outputs": [
        {
          "output_type": "execute_result",
          "data": {
            "application/vnd.google.colaboratory.intrinsic+json": {
              "type": "string"
            },
            "text/plain": [
              "'adgj'"
            ]
          },
          "metadata": {
            "tags": []
          },
          "execution_count": 35
        }
      ]
    },
    {
      "cell_type": "code",
      "metadata": {
        "id": "hoy_LPWBbhwd",
        "colab": {
          "base_uri": "https://localhost:8080/",
          "height": 35
        },
        "outputId": "d966ea10-2db1-4ada-e968-ec930f1cee2a"
      },
      "source": [
        "c = \"abcdefghijk\"\n",
        "c[3::]"
      ],
      "execution_count": null,
      "outputs": [
        {
          "output_type": "execute_result",
          "data": {
            "application/vnd.google.colaboratory.intrinsic+json": {
              "type": "string"
            },
            "text/plain": [
              "'defghijk'"
            ]
          },
          "metadata": {
            "tags": []
          },
          "execution_count": 36
        }
      ]
    },
    {
      "cell_type": "code",
      "metadata": {
        "id": "pHYvlWHhbynR",
        "colab": {
          "base_uri": "https://localhost:8080/"
        },
        "outputId": "1bcd33da-54ab-40bc-e971-2172d5b5ad66"
      },
      "source": [
        "temp = \"hello world\"\n",
        "print (temp)"
      ],
      "execution_count": null,
      "outputs": [
        {
          "output_type": "stream",
          "text": [
            "hello world\n"
          ],
          "name": "stdout"
        }
      ]
    },
    {
      "cell_type": "code",
      "metadata": {
        "id": "-fMca--xcF53",
        "colab": {
          "base_uri": "https://localhost:8080/"
        },
        "outputId": "0bf73464-67cd-4c73-cf98-ca87a62ad985"
      },
      "source": [
        "#next line\n",
        "temp = \"hello world\"\n",
        "print (\"hello \\nworld\")"
      ],
      "execution_count": null,
      "outputs": [
        {
          "output_type": "stream",
          "text": [
            "hello \n",
            "world\n"
          ],
          "name": "stdout"
        }
      ]
    },
    {
      "cell_type": "code",
      "metadata": {
        "id": "BMUlV5inc6J8",
        "colab": {
          "base_uri": "https://localhost:8080/",
          "height": 35
        },
        "outputId": "4bfebe3d-cab1-4f56-d514-5d67cf596258"
      },
      "source": [
        "temp[::-1]"
      ],
      "execution_count": null,
      "outputs": [
        {
          "output_type": "execute_result",
          "data": {
            "application/vnd.google.colaboratory.intrinsic+json": {
              "type": "string"
            },
            "text/plain": [
              "'dlrow olleh'"
            ]
          },
          "metadata": {
            "tags": []
          },
          "execution_count": 39
        }
      ]
    },
    {
      "cell_type": "code",
      "metadata": {
        "id": "TOs-SZNcdAW8",
        "colab": {
          "base_uri": "https://localhost:8080/"
        },
        "outputId": "e5aca549-d80d-4387-d46c-13170e3ecce5"
      },
      "source": [
        "#tab\n",
        "temp = \"hello world\"\n",
        "print (\"hello \\tworld\")"
      ],
      "execution_count": null,
      "outputs": [
        {
          "output_type": "stream",
          "text": [
            "hello \tworld\n"
          ],
          "name": "stdout"
        }
      ]
    },
    {
      "cell_type": "code",
      "metadata": {
        "colab": {
          "base_uri": "https://localhost:8080/"
        },
        "id": "dB1ninhluWgT",
        "outputId": "fbc4001d-98c1-44c0-ef23-45105955a5c6"
      },
      "source": [
        "temp = \"hello world\"\r\n",
        "print (\"hello \\t\\t\\n\\n world\")"
      ],
      "execution_count": null,
      "outputs": [
        {
          "output_type": "stream",
          "text": [
            "hello \t\t\n",
            "\n",
            " world\n"
          ],
          "name": "stdout"
        }
      ]
    },
    {
      "cell_type": "code",
      "metadata": {
        "id": "G7RYHMvCdPJl",
        "colab": {
          "base_uri": "https://localhost:8080/",
          "height": 35
        },
        "outputId": "16fb0149-3edb-466b-cf21-b9a611f9ad04"
      },
      "source": [
        "temp* 3"
      ],
      "execution_count": null,
      "outputs": [
        {
          "output_type": "execute_result",
          "data": {
            "application/vnd.google.colaboratory.intrinsic+json": {
              "type": "string"
            },
            "text/plain": [
              "'hello worldhello worldhello world'"
            ]
          },
          "metadata": {
            "tags": []
          },
          "execution_count": 42
        }
      ]
    },
    {
      "cell_type": "code",
      "metadata": {
        "id": "AfLpc-O2KU3J",
        "colab": {
          "base_uri": "https://localhost:8080/",
          "height": 35
        },
        "outputId": "807b736c-033a-4806-b6fa-098795a8fa47"
      },
      "source": [
        "x=\"pappu\"\n",
        "x=\"g\"+x[1:]\n",
        "x"
      ],
      "execution_count": null,
      "outputs": [
        {
          "output_type": "execute_result",
          "data": {
            "application/vnd.google.colaboratory.intrinsic+json": {
              "type": "string"
            },
            "text/plain": [
              "'gappu'"
            ]
          },
          "metadata": {
            "tags": []
          },
          "execution_count": 45
        }
      ]
    },
    {
      "cell_type": "code",
      "metadata": {
        "colab": {
          "base_uri": "https://localhost:8080/",
          "height": 35
        },
        "id": "-asauO6fdCWE",
        "outputId": "7963257b-dbaa-4770-8615-f2e82a670cc6"
      },
      "source": [
        "x.replace(\"pappu\",\"gappu\")"
      ],
      "execution_count": null,
      "outputs": [
        {
          "output_type": "execute_result",
          "data": {
            "application/vnd.google.colaboratory.intrinsic+json": {
              "type": "string"
            },
            "text/plain": [
              "'gappu'"
            ]
          },
          "metadata": {
            "tags": []
          },
          "execution_count": 13
        }
      ]
    },
    {
      "cell_type": "code",
      "metadata": {
        "colab": {
          "base_uri": "https://localhost:8080/",
          "height": 35
        },
        "id": "iG10w6fdcFE5",
        "outputId": "fa9a218d-5fc1-4bef-c294-cbaf4b7c1583"
      },
      "source": [
        "x.capitalize()"
      ],
      "execution_count": null,
      "outputs": [
        {
          "output_type": "execute_result",
          "data": {
            "application/vnd.google.colaboratory.intrinsic+json": {
              "type": "string"
            },
            "text/plain": [
              "'Gappu'"
            ]
          },
          "metadata": {
            "tags": []
          },
          "execution_count": 6
        }
      ]
    },
    {
      "cell_type": "code",
      "metadata": {
        "colab": {
          "base_uri": "https://localhost:8080/"
        },
        "id": "OnZ5nNPccQ5Y",
        "outputId": "2f21acac-1d6c-49ee-b4b2-164e04b96890"
      },
      "source": [
        "x.count('p')"
      ],
      "execution_count": null,
      "outputs": [
        {
          "output_type": "execute_result",
          "data": {
            "text/plain": [
              "2"
            ]
          },
          "metadata": {
            "tags": []
          },
          "execution_count": 7
        }
      ]
    },
    {
      "cell_type": "code",
      "metadata": {
        "colab": {
          "base_uri": "https://localhost:8080/"
        },
        "id": "brK3Otmscb65",
        "outputId": "4690bd8b-4b64-4eef-d42b-4c8ec1faaea5"
      },
      "source": [
        "x.count('u')"
      ],
      "execution_count": null,
      "outputs": [
        {
          "output_type": "execute_result",
          "data": {
            "text/plain": [
              "1"
            ]
          },
          "metadata": {
            "tags": []
          },
          "execution_count": 9
        }
      ]
    },
    {
      "cell_type": "code",
      "metadata": {
        "colab": {
          "base_uri": "https://localhost:8080/",
          "height": 35
        },
        "id": "8tXMahfzcrId",
        "outputId": "ae14896b-81c6-4ae2-93ad-08dc570ffffd"
      },
      "source": [
        "x=\"pappu\"\r\n",
        "y=\"g\"+x[1:]\r\n",
        "y"
      ],
      "execution_count": null,
      "outputs": [
        {
          "output_type": "execute_result",
          "data": {
            "application/vnd.google.colaboratory.intrinsic+json": {
              "type": "string"
            },
            "text/plain": [
              "'gappu'"
            ]
          },
          "metadata": {
            "tags": []
          },
          "execution_count": 15
        }
      ]
    },
    {
      "cell_type": "code",
      "metadata": {
        "colab": {
          "base_uri": "https://localhost:8080/"
        },
        "id": "GEyeEmshcx2X",
        "outputId": "8cfcbcf9-c83d-43d6-c82d-688cfbcf5d44"
      },
      "source": [
        "x.count('p')"
      ],
      "execution_count": null,
      "outputs": [
        {
          "output_type": "execute_result",
          "data": {
            "text/plain": [
              "3"
            ]
          },
          "metadata": {
            "tags": []
          },
          "execution_count": 12
        }
      ]
    },
    {
      "cell_type": "code",
      "metadata": {
        "id": "8a2zhRvJd4qn"
      },
      "source": [
        "x.append(\"spy\")"
      ],
      "execution_count": null,
      "outputs": []
    },
    {
      "cell_type": "code",
      "metadata": {
        "id": "zcroXXLoeX9d"
      },
      "source": [
        "#'list' object has no attribute 'replace'\r\n",
        "#'str' object has no attribute 'append'\r\n",
        "#'str' object has no attribute 'remove'"
      ],
      "execution_count": null,
      "outputs": []
    },
    {
      "cell_type": "code",
      "metadata": {
        "id": "jafSRCkVKSQO",
        "colab": {
          "base_uri": "https://localhost:8080/"
        },
        "outputId": "b9f26617-0491-4b8b-d622-6de71b672f88"
      },
      "source": [
        "print(\"fruit is {}\".format(\"apple\"))"
      ],
      "execution_count": null,
      "outputs": [
        {
          "output_type": "stream",
          "text": [
            "fruit is apple\n"
          ],
          "name": "stdout"
        }
      ]
    },
    {
      "cell_type": "code",
      "metadata": {
        "id": "CROe4MctNgWO",
        "colab": {
          "base_uri": "https://localhost:8080/"
        },
        "outputId": "84fe4fae-5a87-4609-9669-ff543e1b2dfb"
      },
      "source": [
        "print(\"fruits are {} {} {}\".format(\"apple,\", \"chikoo,\", \"mango.\"))"
      ],
      "execution_count": null,
      "outputs": [
        {
          "output_type": "stream",
          "text": [
            "fruits are apple, chikoo, mango.\n"
          ],
          "name": "stdout"
        }
      ]
    },
    {
      "cell_type": "code",
      "metadata": {
        "id": "ZJQe9IolO6Fb",
        "colab": {
          "base_uri": "https://localhost:8080/"
        },
        "outputId": "76bcd033-336c-4afa-911a-8d782896ff07"
      },
      "source": [
        "temp=79/138\n",
        "temp"
      ],
      "execution_count": null,
      "outputs": [
        {
          "output_type": "execute_result",
          "data": {
            "text/plain": [
              "0.572463768115942"
            ]
          },
          "metadata": {
            "tags": []
          },
          "execution_count": 49
        }
      ]
    },
    {
      "cell_type": "code",
      "metadata": {
        "colab": {
          "base_uri": "https://localhost:8080/"
        },
        "id": "ZAvx6RPibcZG",
        "outputId": "9a5296da-4f23-4255-89ec-a12809c1c1aa"
      },
      "source": [
        "c=79/138\r\n",
        "c"
      ],
      "execution_count": null,
      "outputs": [
        {
          "output_type": "execute_result",
          "data": {
            "text/plain": [
              "0.572463768115942"
            ]
          },
          "metadata": {
            "tags": []
          },
          "execution_count": 50
        }
      ]
    },
    {
      "cell_type": "code",
      "metadata": {
        "colab": {
          "base_uri": "https://localhost:8080/"
        },
        "id": "qVm6HNfGbm5d",
        "outputId": "d2876adf-ca7d-4a57-a4ca-cf7e42986373"
      },
      "source": [
        "b*c"
      ],
      "execution_count": null,
      "outputs": [
        {
          "output_type": "execute_result",
          "data": {
            "text/plain": [
              "70.41304347826087"
            ]
          },
          "metadata": {
            "tags": []
          },
          "execution_count": 51
        }
      ]
    },
    {
      "cell_type": "code",
      "metadata": {
        "id": "6PQhAF4TO_7z",
        "colab": {
          "base_uri": "https://localhost:8080/"
        },
        "outputId": "a6b6aa1b-3ac3-4d7a-83b2-b656eba12470"
      },
      "source": [
        "print(\"value is {}\". format(temp))"
      ],
      "execution_count": null,
      "outputs": [
        {
          "output_type": "stream",
          "text": [
            "value is 0.572463768115942\n"
          ],
          "name": "stdout"
        }
      ]
    },
    {
      "cell_type": "code",
      "metadata": {
        "id": "4z3x6PhHPdOa",
        "colab": {
          "base_uri": "https://localhost:8080/"
        },
        "outputId": "1f9e3792-1b89-4537-cf00-e171e1f19fb1"
      },
      "source": [
        "print(\"value is {z:2.3f}\". format(z=temp))"
      ],
      "execution_count": null,
      "outputs": [
        {
          "output_type": "stream",
          "text": [
            "value is 0.572\n"
          ],
          "name": "stdout"
        }
      ]
    },
    {
      "cell_type": "code",
      "metadata": {
        "id": "pxIZca03QeDt",
        "colab": {
          "base_uri": "https://localhost:8080/"
        },
        "outputId": "dacea7ef-4057-4a0e-9fbe-1289d0b5ad92"
      },
      "source": [
        "G_list=[\"name\",100,23.5]\n",
        "G_list"
      ],
      "execution_count": null,
      "outputs": [
        {
          "output_type": "execute_result",
          "data": {
            "text/plain": [
              "['name', 100, 23.5]"
            ]
          },
          "metadata": {
            "tags": []
          },
          "execution_count": 59
        }
      ]
    },
    {
      "cell_type": "code",
      "metadata": {
        "id": "HsASXM3BSZkT",
        "colab": {
          "base_uri": "https://localhost:8080/"
        },
        "outputId": "b91e0c36-a248-489e-99c4-484081c70947"
      },
      "source": [
        "G_list=[\"name\",100,23.5]\n",
        "G_list\n",
        "X=G_list[0]\n",
        "type (x)"
      ],
      "execution_count": null,
      "outputs": [
        {
          "output_type": "execute_result",
          "data": {
            "text/plain": [
              "str"
            ]
          },
          "metadata": {
            "tags": []
          },
          "execution_count": 60
        }
      ]
    },
    {
      "cell_type": "code",
      "metadata": {
        "id": "ZTIXWIeHSe3y",
        "colab": {
          "base_uri": "https://localhost:8080/"
        },
        "outputId": "2b2da2b7-6717-47ce-fbb2-46d46edd2b33"
      },
      "source": [
        "f_list=[\"one\",\"two\",\"three\"]\n",
        "z= G_list+f_list\n",
        "z"
      ],
      "execution_count": null,
      "outputs": [
        {
          "output_type": "execute_result",
          "data": {
            "text/plain": [
              "['name', 100, 23.5, 'one', 'two', 'three']"
            ]
          },
          "metadata": {
            "tags": []
          },
          "execution_count": 61
        }
      ]
    },
    {
      "cell_type": "markdown",
      "metadata": {
        "id": "i90hq2YnVO1u"
      },
      "source": [
        "Numpy"
      ]
    },
    {
      "cell_type": "code",
      "metadata": {
        "colab": {
          "base_uri": "https://localhost:8080/"
        },
        "id": "JEYDn7Y0Tf30",
        "outputId": "c612b26a-50a2-4607-ee9a-756bc03ea3db"
      },
      "source": [
        "import numpy as np\r\n",
        "print(np.__version__)"
      ],
      "execution_count": null,
      "outputs": [
        {
          "output_type": "stream",
          "text": [
            "1.19.5\n"
          ],
          "name": "stdout"
        }
      ]
    },
    {
      "cell_type": "code",
      "metadata": {
        "colab": {
          "base_uri": "https://localhost:8080/"
        },
        "id": "GUGLK3k1Vaob",
        "outputId": "fd9d3e6d-e878-4dba-aff6-ea0f811dcd38"
      },
      "source": [
        "# integer array\r\n",
        "np.array([1,2,3,4])"
      ],
      "execution_count": null,
      "outputs": [
        {
          "output_type": "execute_result",
          "data": {
            "text/plain": [
              "array([1, 2, 3, 4])"
            ]
          },
          "metadata": {
            "tags": []
          },
          "execution_count": 68
        }
      ]
    },
    {
      "cell_type": "code",
      "metadata": {
        "colab": {
          "base_uri": "https://localhost:8080/"
        },
        "id": "8rfOPfZaVcKm",
        "outputId": "11429670-2044-43bd-a617-463eb918a0ce"
      },
      "source": [
        "# nested lists results in multidimensional array\r\n",
        "np.array([range(i,i+3) for i in [2,4,6]])"
      ],
      "execution_count": null,
      "outputs": [
        {
          "output_type": "execute_result",
          "data": {
            "text/plain": [
              "array([[2, 3, 4],\n",
              "       [4, 5, 6],\n",
              "       [6, 7, 8]])"
            ]
          },
          "metadata": {
            "tags": []
          },
          "execution_count": 69
        }
      ]
    },
    {
      "cell_type": "code",
      "metadata": {
        "colab": {
          "base_uri": "https://localhost:8080/"
        },
        "id": "Mp9JL6lNVkqZ",
        "outputId": "360733bb-07f3-422d-c1d7-569f939aa2bd"
      },
      "source": [
        "# Ranges\r\n",
        "x = np.arange(0,15,2)\r\n",
        "print(\"Range from 0 to less than 15 with step 2:\", x)"
      ],
      "execution_count": null,
      "outputs": [
        {
          "output_type": "stream",
          "text": [
            "Range from 0 to less than 15 with step 2: [ 0  2  4  6  8 10 12 14]\n"
          ],
          "name": "stdout"
        }
      ]
    },
    {
      "cell_type": "code",
      "metadata": {
        "colab": {
          "base_uri": "https://localhost:8080/"
        },
        "id": "Elj06DHhdFK2",
        "outputId": "55ad77dc-6829-4826-de77-46257fdc5d27"
      },
      "source": [
        "np.ones( (2,3,4,5))"
      ],
      "execution_count": null,
      "outputs": [
        {
          "output_type": "execute_result",
          "data": {
            "text/plain": [
              "array([[[[1., 1., 1., 1., 1.],\n",
              "         [1., 1., 1., 1., 1.],\n",
              "         [1., 1., 1., 1., 1.],\n",
              "         [1., 1., 1., 1., 1.]],\n",
              "\n",
              "        [[1., 1., 1., 1., 1.],\n",
              "         [1., 1., 1., 1., 1.],\n",
              "         [1., 1., 1., 1., 1.],\n",
              "         [1., 1., 1., 1., 1.]],\n",
              "\n",
              "        [[1., 1., 1., 1., 1.],\n",
              "         [1., 1., 1., 1., 1.],\n",
              "         [1., 1., 1., 1., 1.],\n",
              "         [1., 1., 1., 1., 1.]]],\n",
              "\n",
              "\n",
              "       [[[1., 1., 1., 1., 1.],\n",
              "         [1., 1., 1., 1., 1.],\n",
              "         [1., 1., 1., 1., 1.],\n",
              "         [1., 1., 1., 1., 1.]],\n",
              "\n",
              "        [[1., 1., 1., 1., 1.],\n",
              "         [1., 1., 1., 1., 1.],\n",
              "         [1., 1., 1., 1., 1.],\n",
              "         [1., 1., 1., 1., 1.]],\n",
              "\n",
              "        [[1., 1., 1., 1., 1.],\n",
              "         [1., 1., 1., 1., 1.],\n",
              "         [1., 1., 1., 1., 1.],\n",
              "         [1., 1., 1., 1., 1.]]]])"
            ]
          },
          "metadata": {
            "tags": []
          },
          "execution_count": 79
        }
      ]
    },
    {
      "cell_type": "code",
      "metadata": {
        "colab": {
          "base_uri": "https://localhost:8080/"
        },
        "id": "gFUYfzy0a1Ib",
        "outputId": "4fc7ff03-2b03-4645-f818-c6d99c4528c6"
      },
      "source": [
        "x = np.linspace( 0,100 ) \r\n",
        "print(x)"
      ],
      "execution_count": null,
      "outputs": [
        {
          "output_type": "stream",
          "text": [
            "[  0.           2.04081633   4.08163265   6.12244898   8.16326531\n",
            "  10.20408163  12.24489796  14.28571429  16.32653061  18.36734694\n",
            "  20.40816327  22.44897959  24.48979592  26.53061224  28.57142857\n",
            "  30.6122449   32.65306122  34.69387755  36.73469388  38.7755102\n",
            "  40.81632653  42.85714286  44.89795918  46.93877551  48.97959184\n",
            "  51.02040816  53.06122449  55.10204082  57.14285714  59.18367347\n",
            "  61.2244898   63.26530612  65.30612245  67.34693878  69.3877551\n",
            "  71.42857143  73.46938776  75.51020408  77.55102041  79.59183673\n",
            "  81.63265306  83.67346939  85.71428571  87.75510204  89.79591837\n",
            "  91.83673469  93.87755102  95.91836735  97.95918367 100.        ]\n"
          ],
          "name": "stdout"
        }
      ]
    },
    {
      "cell_type": "code",
      "metadata": {
        "colab": {
          "base_uri": "https://localhost:8080/",
          "height": 129
        },
        "id": "EGXBbbULeKuG",
        "outputId": "15877fe9-c6eb-4831-c969-70362fe99768"
      },
      "source": [
        "x = np.linspace( 0, 2*np.3, 100 ) \r\n",
        "print(x)"
      ],
      "execution_count": null,
      "outputs": [
        {
          "output_type": "error",
          "ename": "SyntaxError",
          "evalue": "ignored",
          "traceback": [
            "\u001b[0;36m  File \u001b[0;32m\"<ipython-input-80-ef6570e0a65f>\"\u001b[0;36m, line \u001b[0;32m1\u001b[0m\n\u001b[0;31m    x = np.linspace( 0, 2*np.3, 100 )\u001b[0m\n\u001b[0m                             ^\u001b[0m\n\u001b[0;31mSyntaxError\u001b[0m\u001b[0;31m:\u001b[0m invalid syntax\n"
          ]
        }
      ]
    },
    {
      "cell_type": "code",
      "metadata": {
        "colab": {
          "base_uri": "https://localhost:8080/"
        },
        "id": "sxSAmyafaE8S",
        "outputId": "0992e863-413e-4c89-ceca-da70b41ab4dc"
      },
      "source": [
        "x = np.linspace( 0, 2*np.pi, 100 ) \r\n",
        "print(x)"
      ],
      "execution_count": null,
      "outputs": [
        {
          "output_type": "stream",
          "text": [
            "[0.         0.06346652 0.12693304 0.19039955 0.25386607 0.31733259\n",
            " 0.38079911 0.44426563 0.50773215 0.57119866 0.63466518 0.6981317\n",
            " 0.76159822 0.82506474 0.88853126 0.95199777 1.01546429 1.07893081\n",
            " 1.14239733 1.20586385 1.26933037 1.33279688 1.3962634  1.45972992\n",
            " 1.52319644 1.58666296 1.65012947 1.71359599 1.77706251 1.84052903\n",
            " 1.90399555 1.96746207 2.03092858 2.0943951  2.15786162 2.22132814\n",
            " 2.28479466 2.34826118 2.41172769 2.47519421 2.53866073 2.60212725\n",
            " 2.66559377 2.72906028 2.7925268  2.85599332 2.91945984 2.98292636\n",
            " 3.04639288 3.10985939 3.17332591 3.23679243 3.30025895 3.36372547\n",
            " 3.42719199 3.4906585  3.55412502 3.61759154 3.68105806 3.74452458\n",
            " 3.8079911  3.87145761 3.93492413 3.99839065 4.06185717 4.12532369\n",
            " 4.1887902  4.25225672 4.31572324 4.37918976 4.44265628 4.5061228\n",
            " 4.56958931 4.63305583 4.69652235 4.75998887 4.82345539 4.88692191\n",
            " 4.95038842 5.01385494 5.07732146 5.14078798 5.2042545  5.26772102\n",
            " 5.33118753 5.39465405 5.45812057 5.52158709 5.58505361 5.64852012\n",
            " 5.71198664 5.77545316 5.83891968 5.9023862  5.96585272 6.02931923\n",
            " 6.09278575 6.15625227 6.21971879 6.28318531]\n"
          ],
          "name": "stdout"
        }
      ]
    },
    {
      "cell_type": "code",
      "metadata": {
        "id": "BA0v7R5Eb3g0"
      },
      "source": [
        ""
      ],
      "execution_count": null,
      "outputs": []
    }
  ]
}